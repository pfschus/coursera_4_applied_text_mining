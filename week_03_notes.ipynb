{
 "cells": [
  {
   "cell_type": "markdown",
   "metadata": {},
   "source": [
    "# Week 3 notes\n",
    "\n",
    "Test classification, supervised learning for text.\n",
    "\n",
    "Examples:  \n",
    "* Topic identification   \n",
    "* Spam detection  \n",
    "* Sentiment analysis  \n",
    "* Spelling correction  \n",
    "\n",
    "Training phase:  \n",
    "* Labeled data set, split into training and validation  \n",
    "* Ask the questions:  \n",
    "    * What are the features? How do you represent them?  \n",
    "    * What are the model parameters?  \n",
    "\n",
    "Inference phase:  \n",
    "* Unlabeled data set  \n",
    "* Test data set  \n",
    "* Ask the questions:  \n",
    "    * What is the expected performance?  \n",
    "    * What is a good measure?\n",
    "    \n",
    "Types of textual features:  \n",
    "* Words  \n",
    "    * Most common flass of features  \n",
    "    * Handling commonly-occuring words: stop words  \n",
    "    * Normalization: lower case vs. upper case  \n",
    "    * Lemmatization  \n",
    "* Case (upper vs. lower)  \n",
    "* Parts of speech  \n",
    "* Grammatical structure, sentence parsing  \n",
    "* Groups of similar words, semantics"
   ]
  },
  {
   "cell_type": "code",
   "execution_count": null,
   "metadata": {},
   "outputs": [],
   "source": []
  }
 ],
 "metadata": {
  "kernelspec": {
   "display_name": "Python 3",
   "language": "python",
   "name": "python3"
  },
  "language_info": {
   "codemirror_mode": {
    "name": "ipython",
    "version": 3
   },
   "file_extension": ".py",
   "mimetype": "text/x-python",
   "name": "python",
   "nbconvert_exporter": "python",
   "pygments_lexer": "ipython3",
   "version": "3.7.1"
  }
 },
 "nbformat": 4,
 "nbformat_minor": 2
}
